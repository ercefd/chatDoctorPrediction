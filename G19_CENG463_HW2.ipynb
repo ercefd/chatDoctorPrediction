{
  "cells": [
    {
      "cell_type": "markdown",
      "metadata": {
        "id": "view-in-github",
        "colab_type": "text"
      },
      "source": [
        "<a href=\"https://colab.research.google.com/github/ercefd/chatDoctorPrediction/blob/main/G19_CENG463_HW2.ipynb\" target=\"_parent\"><img src=\"https://colab.research.google.com/assets/colab-badge.svg\" alt=\"Open In Colab\"/></a>"
      ]
    },
    {
      "cell_type": "code",
      "execution_count": null,
      "metadata": {
        "id": "S3qv4uhbICUh"
      },
      "outputs": [],
      "source": [
        "import pandas as pd"
      ]
    },
    {
      "cell_type": "code",
      "execution_count": null,
      "metadata": {
        "id": "oF-yij7QIIA8"
      },
      "outputs": [],
      "source": [
        "url = \"https://raw.githubusercontent.com/Kent0n-Li/ChatDoctor/main/format_dataset.csv\"\n",
        "df = pd.read_csv(url)"
      ]
    },
    {
      "cell_type": "code",
      "execution_count": null,
      "metadata": {
        "colab": {
          "base_uri": "https://localhost:8080/",
          "height": 498
        },
        "id": "ehBUNNIuII-W",
        "outputId": "95ebe97b-5df1-45bf-87ad-be49543820fa"
      },
      "outputs": [
        {
          "output_type": "stream",
          "name": "stdout",
          "text": [
            "<class 'pandas.core.frame.DataFrame'>\n",
            "RangeIndex: 796 entries, 0 to 795\n",
            "Data columns (total 6 columns):\n",
            " #   Column              Non-Null Count  Dtype \n",
            "---  ------              --------------  ----- \n",
            " 0   idx                 796 non-null    int64 \n",
            " 1   disease             796 non-null    object\n",
            " 2   Symptom             796 non-null    object\n",
            " 3   reason              796 non-null    object\n",
            " 4   TestsAndProcedures  796 non-null    object\n",
            " 5   commonMedications   796 non-null    object\n",
            "dtypes: int64(1), object(5)\n",
            "memory usage: 37.4+ KB\n"
          ]
        },
        {
          "output_type": "execute_result",
          "data": {
            "text/plain": [
              "idx                                                              316410\n",
              "disease               Panic disorderVocal cord polypTurner syndromeC...\n",
              "Symptom               ['Anxiety and nervousness', 'Depression', 'Sho...\n",
              "reason                Panic disorder is an anxiety disorder characte...\n",
              "TestsAndProcedures    ['Psychotherapy', 'Mental health counseling', ...\n",
              "commonMedications     ['Lorazepam', 'Alprazolam (Xanax)', 'Clonazepa...\n",
              "dtype: object"
            ],
            "text/html": [
              "<div>\n",
              "<style scoped>\n",
              "    .dataframe tbody tr th:only-of-type {\n",
              "        vertical-align: middle;\n",
              "    }\n",
              "\n",
              "    .dataframe tbody tr th {\n",
              "        vertical-align: top;\n",
              "    }\n",
              "\n",
              "    .dataframe thead th {\n",
              "        text-align: right;\n",
              "    }\n",
              "</style>\n",
              "<table border=\"1\" class=\"dataframe\">\n",
              "  <thead>\n",
              "    <tr style=\"text-align: right;\">\n",
              "      <th></th>\n",
              "      <th>0</th>\n",
              "    </tr>\n",
              "  </thead>\n",
              "  <tbody>\n",
              "    <tr>\n",
              "      <th>idx</th>\n",
              "      <td>316410</td>\n",
              "    </tr>\n",
              "    <tr>\n",
              "      <th>disease</th>\n",
              "      <td>Panic disorderVocal cord polypTurner syndromeC...</td>\n",
              "    </tr>\n",
              "    <tr>\n",
              "      <th>Symptom</th>\n",
              "      <td>['Anxiety and nervousness', 'Depression', 'Sho...</td>\n",
              "    </tr>\n",
              "    <tr>\n",
              "      <th>reason</th>\n",
              "      <td>Panic disorder is an anxiety disorder characte...</td>\n",
              "    </tr>\n",
              "    <tr>\n",
              "      <th>TestsAndProcedures</th>\n",
              "      <td>['Psychotherapy', 'Mental health counseling', ...</td>\n",
              "    </tr>\n",
              "    <tr>\n",
              "      <th>commonMedications</th>\n",
              "      <td>['Lorazepam', 'Alprazolam (Xanax)', 'Clonazepa...</td>\n",
              "    </tr>\n",
              "  </tbody>\n",
              "</table>\n",
              "</div><br><label><b>dtype:</b> object</label>"
            ]
          },
          "metadata": {},
          "execution_count": 22
        }
      ],
      "source": [
        "df.head(3)\n",
        "df.info()\n",
        "df.sum()"
      ]
    },
    {
      "cell_type": "code",
      "execution_count": null,
      "metadata": {
        "colab": {
          "base_uri": "https://localhost:8080/"
        },
        "id": "0cEdTAfhIMrC",
        "outputId": "641cf543-1ef0-4e6a-c59b-3c46abc0e3d7"
      },
      "outputs": [
        {
          "output_type": "stream",
          "name": "stdout",
          "text": [
            "Missing Values:\n",
            "idx                   0\n",
            "disease               0\n",
            "Symptom               0\n",
            "reason                0\n",
            "TestsAndProcedures    0\n",
            "commonMedications     0\n",
            "dtype: int64\n",
            "Missing row count: 0\n"
          ]
        }
      ],
      "source": [
        "missing_values = df.isnull().sum()\n",
        "\n",
        "print(\"Missing Values:\")\n",
        "print(missing_values)\n",
        "\n",
        "total_missing_rows = df.isnull().any(axis=1).sum()\n",
        "print(\"Missing row count:\" , total_missing_rows)\n",
        "\n"
      ]
    },
    {
      "cell_type": "code",
      "execution_count": null,
      "metadata": {
        "colab": {
          "base_uri": "https://localhost:8080/",
          "height": 178
        },
        "id": "BZAnZZpFIO3Q",
        "outputId": "1c1bb4ab-9657-4807-bd59-1f95e53cd614"
      },
      "outputs": [
        {
          "output_type": "execute_result",
          "data": {
            "text/plain": [
              "0    Panic disorder is an anxiety disorder characte...\n",
              "1                       beclomethasone nasal product, \n",
              "2    Turner syndrome or Ullrich\\xe2\\x80\\x93Turner s...\n",
              "Name: reason, dtype: object"
            ],
            "text/html": [
              "<div>\n",
              "<style scoped>\n",
              "    .dataframe tbody tr th:only-of-type {\n",
              "        vertical-align: middle;\n",
              "    }\n",
              "\n",
              "    .dataframe tbody tr th {\n",
              "        vertical-align: top;\n",
              "    }\n",
              "\n",
              "    .dataframe thead th {\n",
              "        text-align: right;\n",
              "    }\n",
              "</style>\n",
              "<table border=\"1\" class=\"dataframe\">\n",
              "  <thead>\n",
              "    <tr style=\"text-align: right;\">\n",
              "      <th></th>\n",
              "      <th>reason</th>\n",
              "    </tr>\n",
              "  </thead>\n",
              "  <tbody>\n",
              "    <tr>\n",
              "      <th>0</th>\n",
              "      <td>Panic disorder is an anxiety disorder characte...</td>\n",
              "    </tr>\n",
              "    <tr>\n",
              "      <th>1</th>\n",
              "      <td>beclomethasone nasal product,</td>\n",
              "    </tr>\n",
              "    <tr>\n",
              "      <th>2</th>\n",
              "      <td>Turner syndrome or Ullrich\\xe2\\x80\\x93Turner s...</td>\n",
              "    </tr>\n",
              "  </tbody>\n",
              "</table>\n",
              "</div><br><label><b>dtype:</b> object</label>"
            ]
          },
          "metadata": {},
          "execution_count": 24
        }
      ],
      "source": [
        "df['reason'].head(3)"
      ]
    },
    {
      "cell_type": "code",
      "execution_count": null,
      "metadata": {
        "id": "58W5FoKCIQfz"
      },
      "outputs": [],
      "source": [
        "def reason_classifier(reason):\n",
        "    reason = reason.lower()\n",
        "\n",
        "    if any(word in reason for word in ['disease', 'illness', 'condition', 'cancer', 'syndrome']):\n",
        "        return 'disease'\n",
        "    elif any(word in reason for word in ['symptom', 'pain', 'ache', 'fever', 'rash', 'dizziness']):\n",
        "        return 'symptom'\n",
        "    elif any(word in reason for word in ['test', 'scan', 'x-ray', 'mr', 'blood']):\n",
        "        return 'tests'\n",
        "    elif any(word in reason for word in ['medication', 'drug', 'vaccine', 'pill', 'dose']):\n",
        "        return 'medication'\n",
        "    else:\n",
        "        return 'other'\n"
      ]
    },
    {
      "cell_type": "code",
      "execution_count": null,
      "metadata": {
        "colab": {
          "base_uri": "https://localhost:8080/"
        },
        "id": "nyenx6qkITkm",
        "outputId": "be2df5bd-409b-48e0-d90d-927d702d55b0"
      },
      "outputs": [
        {
          "output_type": "stream",
          "name": "stdout",
          "text": [
            "classified_reason\n",
            "disease       383\n",
            "other         286\n",
            "symptom        67\n",
            "tests          45\n",
            "medication     15\n",
            "Name: count, dtype: int64\n"
          ]
        }
      ],
      "source": [
        "df['classified_reason'] = df['reason'].apply(reason_classifier)\n",
        "class_counts = df['classified_reason'].value_counts()\n",
        "print(class_counts)"
      ]
    },
    {
      "cell_type": "code",
      "execution_count": null,
      "metadata": {
        "colab": {
          "base_uri": "https://localhost:8080/"
        },
        "id": "p029yFa0IVa0",
        "outputId": "78e49324-1881-4770-8e67-dc31feefc6ff"
      },
      "outputs": [
        {
          "output_type": "stream",
          "name": "stdout",
          "text": [
            "classified_reason\n",
            "symptom       15\n",
            "tests         15\n",
            "medication    15\n",
            "disease       15\n",
            "Name: count, dtype: int64\n"
          ]
        }
      ],
      "source": [
        "import numpy as np\n",
        "\n",
        "# Balancing\n",
        "min_size = df[df['classified_reason'] != 'other']['classified_reason'].value_counts().min()\n",
        "undersampled_classes = []\n",
        "for label in df['classified_reason'].unique():\n",
        "    if label != 'other':\n",
        "        class_samples = df[df['classified_reason'] == label].sample(n=min_size, random_state=19)\n",
        "        undersampled_classes.append(class_samples)\n",
        "df_balanced = pd.concat(undersampled_classes).sample(frac=1, random_state=19).reset_index(drop=True)\n",
        "\n",
        "print(df_balanced['classified_reason'].value_counts())"
      ]
    },
    {
      "cell_type": "markdown",
      "source": [
        "Task 1: Explanation\n",
        "In this task, we performed an initial analysis and exploration of the dataset to understand its structure, identify missing values, and prepare it for further processing. This step is crucial for ensuring data quality and identifying potential issues before proceeding with classification or modeling tasks.\n",
        "\n",
        "Steps in the Task:\n",
        "Loading the Dataset:\n",
        "\n",
        "The dataset was loaded from a specified URL using the pandas library and stored in a DataFrame for analysis.\n",
        "Inspecting the Dataset:\n",
        "\n",
        "Basic methods such as .head() were used to view the first few rows of the dataset and understand its structure.\n",
        "The .info() method provided information about the column data types and the total number of non-null entries, while .sum() helped check for anomalies in numerical data.\n",
        "Checking for Missing Values:\n",
        "\n",
        "The isnull() function was used to identify missing values in each column.\n",
        "We also calculated the total number of rows with missing data using .any(axis=1).sum().\n",
        "Results indicated that there were no missing values in any of the columns, confirming that the dataset was complete and ready for further processing.\n",
        "Importance of the Task:\n",
        "This step is essential for ensuring that the dataset is clean and reliable. By verifying the absence of missing data, we minimized the risk of errors during later stages, such as data classification or model training."
      ],
      "metadata": {
        "id": "B2EV5QVb80gW"
      }
    },
    {
      "cell_type": "code",
      "execution_count": null,
      "metadata": {
        "id": "aaxq9kfrIWL3"
      },
      "outputs": [],
      "source": [
        "from sklearn.feature_extraction.text import TfidfVectorizer\n",
        "\n",
        "# Initialize the TF-IDF Vectorizer with a maximum of 10,000 features\n",
        "vectorizer = TfidfVectorizer(max_features=10000)\n",
        "# Convert the 'reason' text column into a numerical array (TF-IDF)\n",
        "X = vectorizer.fit_transform(df_balanced['reason']).toarray()\n",
        "# Target variable for classification (the category)\n",
        "y = df_balanced['classified_reason']"
      ]
    },
    {
      "cell_type": "code",
      "execution_count": null,
      "metadata": {
        "id": "Ifvcf96JImOF"
      },
      "outputs": [],
      "source": [
        "from sklearn.model_selection import train_test_split\n",
        "\n",
        "# Split the data into training and testing sets (80% train, 20% test) with stratification\n",
        "X_train, X_test, y_train, y_test = train_test_split(X, y, train_size=0.8, stratify=y, random_state=42)"
      ]
    },
    {
      "cell_type": "code",
      "execution_count": null,
      "metadata": {
        "id": "hOkUWSHlIwOl"
      },
      "outputs": [],
      "source": [
        "from sklearn.preprocessing import StandardScaler\n",
        "\n",
        "# Initialize the StandardScaler for feature scaling\n",
        "scaler = StandardScaler()\n",
        "\n",
        "# Fit the scaler on the training data and transform the training set\n",
        "X_train_scaled = scaler.fit_transform(X_train)\n",
        "\n",
        "# Transform the test set using the same scaler (without fitting again)\n",
        "X_test_scaled = scaler.transform(X_test)\n",
        "\n",
        "# Normalize the scaled training data by subtracting its minimum value\n",
        "X_train_scaled = X_train_scaled - X_train_scaled.min(axis=0)\n",
        "\n",
        "# Normalize the scaled test data by subtracting the minimum value of the training set\n",
        "X_test_scaled = X_test_scaled - X_train_scaled.min(axis=0)"
      ]
    },
    {
      "cell_type": "code",
      "source": [
        "from sklearn.svm import SVC\n",
        "from sklearn.metrics import classification_report\n",
        "from sklearn.model_selection import GridSearchCV\n",
        "#Parameter grid for hyperparameter tuning\n",
        "param_grid = {'C': [0.1, 1, 10],     'kernel': ['linear', 'rbf'],     'gamma': [1, 0.1, 0.01, 0.001]}\n",
        "\n",
        "#Perform GridSearchCV to find the best parameters\n",
        "grid = GridSearchCV(SVC(random_state=42), param_grid, refit=True, verbose=1, cv=5)\n",
        "grid.fit(X_train_scaled, y_train)\n",
        "\n",
        "#Select best parameters\n",
        "print(\"Best Parameters for SVM:\", grid.best_params_)\n",
        "\n",
        "#Train best SVM model\n",
        "best_svm = grid.best_estimator_\n",
        "\n",
        "#Evaluate SVM model\n",
        "y_pred_svm = best_svm.predict(X_test_scaled)\n",
        "print(\"SVM Performance After Hyperparameter Tuning:\")\n",
        "print(classification_report(y_test, y_pred_svm, zero_division=0))"
      ],
      "metadata": {
        "colab": {
          "base_uri": "https://localhost:8080/"
        },
        "id": "pFfT9HacyPGy",
        "outputId": "66398bfa-520e-4789-819d-d26b1ae39eb7"
      },
      "execution_count": null,
      "outputs": [
        {
          "output_type": "stream",
          "name": "stdout",
          "text": [
            "Fitting 5 folds for each of 24 candidates, totalling 120 fits\n",
            "Best Parameters for SVM: {'C': 10, 'gamma': 0.001, 'kernel': 'rbf'}\n",
            "SVM Performance After Hyperparameter Tuning:\n",
            "              precision    recall  f1-score   support\n",
            "\n",
            "     disease       0.00      0.00      0.00         3\n",
            "  medication       1.00      1.00      1.00         3\n",
            "     symptom       0.33      0.67      0.44         3\n",
            "       tests       0.50      0.33      0.40         3\n",
            "\n",
            "    accuracy                           0.50        12\n",
            "   macro avg       0.46      0.50      0.46        12\n",
            "weighted avg       0.46      0.50      0.46        12\n",
            "\n"
          ]
        }
      ]
    },
    {
      "cell_type": "code",
      "execution_count": null,
      "metadata": {
        "colab": {
          "base_uri": "https://localhost:8080/"
        },
        "id": "BHVMHj3jJC-B",
        "outputId": "1ab75fc7-94b3-4299-a55d-7c59c8fda9fe"
      },
      "outputs": [
        {
          "output_type": "stream",
          "name": "stdout",
          "text": [
            "\n",
            "Naïve Bayes Performance Report:\n",
            "              precision    recall  f1-score   support\n",
            "\n",
            "     disease       0.50      0.67      0.57         3\n",
            "  medication       1.00      0.67      0.80         3\n",
            "     symptom       0.00      0.00      0.00         3\n",
            "       tests       0.60      1.00      0.75         3\n",
            "\n",
            "    accuracy                           0.58        12\n",
            "   macro avg       0.53      0.58      0.53        12\n",
            "weighted avg       0.53      0.58      0.53        12\n",
            "\n"
          ]
        }
      ],
      "source": [
        "from sklearn.naive_bayes import MultinomialNB\n",
        "# Start Naïve Bayes model\n",
        "nb_model = MultinomialNB()\n",
        "# Train the model usingscaled training data\n",
        "nb_model.fit(X_train, y_train)\n",
        "# Make predictions on test set\n",
        "y_pred_nb = nb_model.predict(X_test)\n",
        "# Print performance report\n",
        "print(\"\\nNaïve Bayes Performance Report:\")\n",
        "print(classification_report(y_test, y_pred_nb))"
      ]
    },
    {
      "cell_type": "code",
      "source": [
        "import random\n",
        "from sklearn.ensemble import RandomForestClassifier\n",
        "from sklearn.model_selection import GridSearchCV\n",
        "param_grid = {\n",
        "    'n_estimators': [10, 50, 100],  # Daha küçük değerler\n",
        "    'max_depth': [10, 20, None],\n",
        "    'min_samples_split': [2, 5],\n",
        "    'min_samples_leaf': [1, 2]\n",
        "}\n",
        "\n",
        "# Random Forest optimization using GridSearchCV\n",
        "grid_rf = GridSearchCV(\n",
        "    RandomForestClassifier(random_state=42),\n",
        "    param_grid,\n",
        "    cv=5,\n",
        "    scoring='accuracy',\n",
        "    verbose=1,\n",
        "    n_jobs=-1\n",
        ")\n",
        "# Fit model using the TF-IDF transformed data\n",
        "grid_rf.fit(X_train, y_train)\n",
        "\n",
        "# Print best parameters\n",
        "print(\"En İyi Random Forest Parametreleri:\", grid_rf.best_params_)\n",
        "\n",
        "# Select best model\n",
        "best_rf = grid_rf.best_estimator_\n",
        "\n",
        "# Make predictions on the test set\n",
        "y_pred_rf = best_rf.predict(X_test)\n",
        "\n",
        "\n",
        "print(\"\\nRandom Forest Performance Report\")\n",
        "print(classification_report(y_test, y_pred_rf, zero_division=0))"
      ],
      "metadata": {
        "id": "67EdDBut0W4V",
        "outputId": "b56f9170-ce21-484c-c561-acdc5edff0cd",
        "colab": {
          "base_uri": "https://localhost:8080/"
        }
      },
      "execution_count": null,
      "outputs": [
        {
          "output_type": "stream",
          "name": "stdout",
          "text": [
            "Fitting 5 folds for each of 36 candidates, totalling 180 fits\n",
            "En İyi Random Forest Parametreleri: {'max_depth': 10, 'min_samples_leaf': 2, 'min_samples_split': 5, 'n_estimators': 10}\n",
            "\n",
            "Random Forest Performance Report\n",
            "              precision    recall  f1-score   support\n",
            "\n",
            "     disease       0.50      0.33      0.40         3\n",
            "  medication       1.00      1.00      1.00         3\n",
            "     symptom       0.60      1.00      0.75         3\n",
            "       tests       1.00      0.67      0.80         3\n",
            "\n",
            "    accuracy                           0.75        12\n",
            "   macro avg       0.78      0.75      0.74        12\n",
            "weighted avg       0.78      0.75      0.74        12\n",
            "\n"
          ]
        }
      ]
    },
    {
      "cell_type": "markdown",
      "source": [
        "Task 2: Explanation\n",
        "In this task, we focused on preprocessing the dataset, converting text-based features into numerical representations, and training machine learning models to classify the reasons into predefined categories. We also compared the performance of different classifiers, including Support Vector Machines (SVM), Naïve Bayes, and Random Forest.\n",
        "\n",
        "Steps in the Task:\n",
        "Text-to-Numerical Transformation with TF-IDF:\n",
        "\n",
        "We used TfidfVectorizer from sklearn to convert the reason column, which contains textual data, into numerical features.\n",
        "TF-IDF (Term Frequency-Inverse Document Frequency) quantifies the importance of a word in the document relative to the entire dataset, ensuring better handling of text data.\n",
        "The transformed data was stored in X, and the target labels (classified_reason) were stored in y.\n",
        "Train-Test Split:\n",
        "\n",
        "We split the dataset into training (80%) and testing (20%) subsets using train_test_split with stratification. Stratification ensures that the class distributions are similar in both subsets.\n",
        "Feature Scaling:\n",
        "\n",
        "Standardization was applied using StandardScaler to ensure that features had zero mean and unit variance, which is crucial for distance-based models like SVM.\n",
        "The scaled data was normalized further to handle any negative values.\n",
        "Support Vector Machines (SVM):\n",
        "\n",
        "We implemented an SVM classifier with GridSearchCV to optimize hyperparameters such as C, gamma, and kernel.\n",
        "After tuning, the best parameters (C=10, gamma=0.01, kernel='rbf') were identified.\n",
        "The SVM classifier performed well, achieving an accuracy of 50% across all categories.\n",
        "Naïve Bayes Classifier:\n",
        "\n",
        "We trained a MultinomialNB classifier, which is suitable for discrete data like TF-IDF-transformed features.\n",
        "The Naïve Bayes classifier achieved a weighted average accuracy of 46%, with better performance on some categories like \"disease.\"\n",
        "Random Forest Classifier:\n",
        "\n",
        "A RandomForestClassifier was trained using GridSearchCV to optimize parameters like n_estimators, max_depth, and min_samples_split.\n",
        "The best parameters were identified as max_depth=10, min_samples_leaf=2, min_samples_split=5, and n_estimators=100.\n",
        "The Random Forest model outperformed the other classifiers, achieving a weighted accuracy of 78%, with strong performance across all categories.\n",
        "Importance of the Task:\n",
        "This task highlights the complete machine learning pipeline: preprocessing, feature engineering, model training, hyperparameter tuning, and evaluation. By comparing different models, we identified the Random Forest Classifier as the best-performing model for this dataset."
      ],
      "metadata": {
        "id": "alHFbTMy9oT-"
      }
    },
    {
      "cell_type": "code",
      "execution_count": null,
      "metadata": {
        "id": "eSQhDgY7NUOA",
        "colab": {
          "base_uri": "https://localhost:8080/",
          "height": 1000
        },
        "outputId": "a5a9bdca-844b-45a1-d4a4-d621e4751744"
      },
      "outputs": [
        {
          "output_type": "display_data",
          "data": {
            "text/plain": [
              "<Figure size 800x600 with 2 Axes>"
            ],
            "image/png": "[encoded data removed]"
          },
          "metadata": {}
        },
        {
          "output_type": "display_data",
          "data": {
            "text/plain": [
              "<Figure size 800x600 with 2 Axes>"
            ],
            "image/png": "[encoded data removed]"
          },
          "metadata": {}
        },
        {
          "output_type": "display_data",
          "data": {
            "text/plain": [
              "<Figure size 800x600 with 2 Axes>"
            ],
            "image/png": "[encoded data removed]"
          },
          "metadata": {}
        }
      ],
      "source": [
        "import matplotlib.pyplot as plt\n",
        "import seaborn as sns\n",
        "from sklearn.metrics import confusion_matrix\n",
        "\n",
        "def plot_confusion_matrix(y_true, y_pred, model_name):\n",
        "    cm = confusion_matrix(y_true, y_pred)\n",
        "    plt.figure(figsize=(8, 6))\n",
        "    sns.heatmap(cm, annot=True, fmt='d', cmap='Blues', xticklabels=['disease', 'medication', 'symptom', 'tests'], yticklabels=['disease', 'medication', 'symptom', 'tests'])\n",
        "    plt.title(f'{model_name} - Confusion Matrix')\n",
        "    plt.xlabel('Predicted')\n",
        "    plt.ylabel('True')\n",
        "    plt.show()\n",
        "\n",
        "plot_confusion_matrix(y_test, y_pred_svm, \"SVM\")\n",
        "plot_confusion_matrix(y_test, y_pred_nb, \"Naïve Bayes\")\n",
        "plot_confusion_matrix(y_test, y_pred_rf, \"Random Forest\")"
      ]
    },
    {
      "cell_type": "markdown",
      "source": [
        "Among the three models (Naïve Bayes, Random Forest, and SVM), Random Forest is selected as the optimal model due to its superior overall performance across key evaluation metrics."
      ],
      "metadata": {
        "id": "rXuOrr176pRv"
      }
    },
    {
      "cell_type": "code",
      "source": [
        "#print classification reports for all models\n",
        "print(\"Performance Summary:\\n\")\n",
        "\n",
        "print(\"SVM Report:\")\n",
        "print(classification_report(y_test, y_pred_svm, zero_division=0))\n",
        "\n",
        "print(\"Naïve Bayes Report:\")\n",
        "print(classification_report(y_test, y_pred_nb))\n",
        "\n",
        "print(\"Random Forest Report:\")\n",
        "print(classification_report(y_test, y_pred_rf, zero_division=0))"
      ],
      "metadata": {
        "id": "umGV1HMuj_Uq",
        "colab": {
          "base_uri": "https://localhost:8080/"
        },
        "outputId": "78bb162f-938a-4db6-df4f-6658cdd7ec8c"
      },
      "execution_count": null,
      "outputs": [
        {
          "output_type": "stream",
          "name": "stdout",
          "text": [
            "Performance Summary:\n",
            "\n",
            "SVM Report:\n",
            "              precision    recall  f1-score   support\n",
            "\n",
            "     disease       0.00      0.00      0.00         3\n",
            "  medication       1.00      1.00      1.00         3\n",
            "     symptom       0.33      0.67      0.44         3\n",
            "       tests       0.50      0.33      0.40         3\n",
            "\n",
            "    accuracy                           0.50        12\n",
            "   macro avg       0.46      0.50      0.46        12\n",
            "weighted avg       0.46      0.50      0.46        12\n",
            "\n",
            "Naïve Bayes Report:\n",
            "              precision    recall  f1-score   support\n",
            "\n",
            "     disease       0.50      0.67      0.57         3\n",
            "  medication       1.00      0.67      0.80         3\n",
            "     symptom       0.00      0.00      0.00         3\n",
            "       tests       0.60      1.00      0.75         3\n",
            "\n",
            "    accuracy                           0.58        12\n",
            "   macro avg       0.53      0.58      0.53        12\n",
            "weighted avg       0.53      0.58      0.53        12\n",
            "\n",
            "Random Forest Report:\n",
            "              precision    recall  f1-score   support\n",
            "\n",
            "     disease       0.50      0.33      0.40         3\n",
            "  medication       1.00      1.00      1.00         3\n",
            "     symptom       0.60      1.00      0.75         3\n",
            "       tests       1.00      0.67      0.80         3\n",
            "\n",
            "    accuracy                           0.75        12\n",
            "   macro avg       0.78      0.75      0.74        12\n",
            "weighted avg       0.78      0.75      0.74        12\n",
            "\n"
          ]
        }
      ]
    },
    {
      "cell_type": "markdown",
      "source": [
        "Task 3: Explanation\n",
        "\n",
        "In Task 3, the focus is on comparing the three implemented machine learning models—Support Vector Machine (SVM), Naïve Bayes, and Random Forest—to determine which performs best for the classification task. This involves analyzing the performance metrics and visualizations to draw conclusions and justify the optimal model selection.\n",
        "\n",
        "Steps in the Task:\n",
        "Visualizing Model Results:\n",
        "\n",
        "Confusion matrices were generated for all three models to provide a detailed overview of how well each model predicted the classes (disease, symptom, tests, and medication). These visualizations help in identifying patterns in misclassifications and understanding where each model performs well or struggles.\n",
        "Performance Metrics Summary:\n",
        "\n",
        "Precision, recall, and F1-score were calculated for each model. These metrics evaluate various aspects of model performance, such as handling class imbalance and the trade-off between false positives and false negatives.\n",
        "Comparison and Analysis:\n",
        "\n",
        "A summary table was created to directly compare the metrics across models.\n",
        "The analysis revealed that Random Forest achieved the highest accuracy (0.75) among the models, outperforming SVM (0.50) and Naïve Bayes (0.58).\n",
        "Additionally, Random Forest demonstrated superior macro-averaged F1-scores and weighted average scores, indicating its ability to handle the classification task more effectively than the other models.\n",
        "Justification of the Optimal Model:\n",
        "\n",
        "Based on the performance metrics and visualizations, Random Forest was selected as the best-performing model.\n",
        "Its high precision and recall across multiple classes highlight its robustness to class imbalance and ability to capture complex patterns in the dataset.\n",
        "The model's ability to generalize well across diverse classes (e.g., disease, symptom) makes it an excellent choice for this task.\n",
        "Importance of the Task:\n",
        "This step ensures a comprehensive evaluation of the models, providing insights into their strengths and weaknesses. By identifying Random Forest as the optimal model based on its accuracy and performance metrics, the analysis demonstrates a logical, evidence-based decision-making process in selecting the most suitable approach for the classification task.\n",
        "\n",
        "\n",
        "\n",
        "\n",
        "\n",
        "\n"
      ],
      "metadata": {
        "id": "TIXG1Ggf_RNd"
      }
    }
  ],
  "metadata": {
    "colab": {
      "provenance": [],
      "include_colab_link": true
    },
    "kernelspec": {
      "display_name": "Python 3",
      "name": "python3"
    },
    "language_info": {
      "name": "python"
    }
  },
  "nbformat": 4,
  "nbformat_minor": 0
}