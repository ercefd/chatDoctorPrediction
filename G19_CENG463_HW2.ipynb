{
  "nbformat": 4,
  "nbformat_minor": 0,
  "metadata": {
    "colab": {
      "provenance": [],
      "include_colab_link": true
    },
    "kernelspec": {
      "name": "python3",
      "display_name": "Python 3"
    },
    "language_info": {
      "name": "python"
    }
  },
  "cells": [
    {
      "cell_type": "markdown",
      "metadata": {
        "id": "view-in-github",
        "colab_type": "text"
      },
      "source": [
        "<a href=\"https://colab.research.google.com/github/ercefd/chatDoctorPrediction/blob/main/G19_CENG463_HW2.ipynb\" target=\"_parent\"><img src=\"https://colab.research.google.com/assets/colab-badge.svg\" alt=\"Open In Colab\"/></a>"
      ]
    },
    {
      "cell_type": "code",
      "execution_count": null,
      "metadata": {
        "id": "aUiO4hKH0LGv"
      },
      "outputs": [],
      "source": [
        "import pandas as pd"
      ]
    },
    {
      "cell_type": "code",
      "source": [
        "url = \"https://raw.githubusercontent.com/Kent0n-Li/ChatDoctor/main/format_dataset.csv\"\n",
        "df = pd.read_csv(url)"
      ],
      "metadata": {
        "id": "nG_ItgIH2swj"
      },
      "execution_count": null,
      "outputs": []
    },
    {
      "cell_type": "code",
      "source": [
        "df.head(3)\n",
        "df.info()"
      ],
      "metadata": {
        "colab": {
          "base_uri": "https://localhost:8080/"
        },
        "id": "TB2DiMvd973W",
        "outputId": "cca2c35e-87ad-419f-eabf-e9c6daeabac6"
      },
      "execution_count": null,
      "outputs": [
        {
          "output_type": "stream",
          "name": "stdout",
          "text": [
            "<class 'pandas.core.frame.DataFrame'>\n",
            "RangeIndex: 796 entries, 0 to 795\n",
            "Data columns (total 6 columns):\n",
            " #   Column              Non-Null Count  Dtype \n",
            "---  ------              --------------  ----- \n",
            " 0   idx                 796 non-null    int64 \n",
            " 1   disease             796 non-null    object\n",
            " 2   Symptom             796 non-null    object\n",
            " 3   reason              796 non-null    object\n",
            " 4   TestsAndProcedures  796 non-null    object\n",
            " 5   commonMedications   796 non-null    object\n",
            "dtypes: int64(1), object(5)\n",
            "memory usage: 37.4+ KB\n"
          ]
        }
      ]
    },
    {
      "cell_type": "code",
      "source": [
        "missing_values = df.isnull().sum()\n",
        "\n",
        "print(\"Missing Values:\")\n",
        "print(missing_values)\n",
        "\n",
        "total_missing_rows = df.isnull().any(axis=1).sum()\n",
        "print(\"Missing row count:\" , total_missing_rows)\n",
        "\n",
        "#bütün değerler temiz çıktı ellemedim o yüzden"
      ],
      "metadata": {
        "colab": {
          "base_uri": "https://localhost:8080/"
        },
        "id": "6FO_T2Ig_HM1",
        "outputId": "3cfc4758-46b1-4169-858c-88bc144e6990"
      },
      "execution_count": null,
      "outputs": [
        {
          "output_type": "stream",
          "name": "stdout",
          "text": [
            "Missing Values:\n",
            "idx                   0\n",
            "disease               0\n",
            "Symptom               0\n",
            "reason                0\n",
            "TestsAndProcedures    0\n",
            "commonMedications     0\n",
            "dtype: int64\n",
            "Missing row count: 0\n"
          ]
        }
      ]
    },
    {
      "cell_type": "code",
      "source": [
        "df['reason'].head(3)"
      ],
      "metadata": {
        "colab": {
          "base_uri": "https://localhost:8080/",
          "height": 178
        },
        "id": "-mEwvZ5HSzc8",
        "outputId": "8682e742-b176-4fe1-842d-c6595a3412fe"
      },
      "execution_count": null,
      "outputs": [
        {
          "output_type": "execute_result",
          "data": {
            "text/plain": [
              "0    Panic disorder is an anxiety disorder characte...\n",
              "1                       beclomethasone nasal product, \n",
              "2    Turner syndrome or Ullrich\\xe2\\x80\\x93Turner s...\n",
              "Name: reason, dtype: object"
            ],
            "text/html": [
              "<div>\n",
              "<style scoped>\n",
              "    .dataframe tbody tr th:only-of-type {\n",
              "        vertical-align: middle;\n",
              "    }\n",
              "\n",
              "    .dataframe tbody tr th {\n",
              "        vertical-align: top;\n",
              "    }\n",
              "\n",
              "    .dataframe thead th {\n",
              "        text-align: right;\n",
              "    }\n",
              "</style>\n",
              "<table border=\"1\" class=\"dataframe\">\n",
              "  <thead>\n",
              "    <tr style=\"text-align: right;\">\n",
              "      <th></th>\n",
              "      <th>reason</th>\n",
              "    </tr>\n",
              "  </thead>\n",
              "  <tbody>\n",
              "    <tr>\n",
              "      <th>0</th>\n",
              "      <td>Panic disorder is an anxiety disorder characte...</td>\n",
              "    </tr>\n",
              "    <tr>\n",
              "      <th>1</th>\n",
              "      <td>beclomethasone nasal product,</td>\n",
              "    </tr>\n",
              "    <tr>\n",
              "      <th>2</th>\n",
              "      <td>Turner syndrome or Ullrich\\xe2\\x80\\x93Turner s...</td>\n",
              "    </tr>\n",
              "  </tbody>\n",
              "</table>\n",
              "</div><br><label><b>dtype:</b> object</label>"
            ]
          },
          "metadata": {},
          "execution_count": 7
        }
      ]
    },
    {
      "cell_type": "code",
      "source": [
        "def reason_classifier(reason):\n",
        "    reason = reason.lower()\n",
        "\n",
        "    if any(word in reason for word in ['disease', 'illness', 'condition', 'cancer', 'syndrome']):\n",
        "        return 'disease'\n",
        "    elif any(word in reason for word in ['symptom', 'pain', 'ache', 'fever', 'rash', 'dizziness']):\n",
        "        return 'symptom'\n",
        "    elif any(word in reason for word in ['test', 'scan', 'x-ray', 'mr', 'blood']):\n",
        "        return 'tests'\n",
        "    elif any(word in reason for word in ['medication', 'drug', 'vaccine', 'pill', 'dose']):\n",
        "        return 'medication'\n",
        "    else:\n",
        "        return 'other'\n"
      ],
      "metadata": {
        "id": "rhqKZ0KhpXS2"
      },
      "execution_count": null,
      "outputs": []
    },
    {
      "cell_type": "code",
      "source": [
        "df['classified_reason'] = df['reason'].apply(reason_classifier)\n",
        "class_counts = df['classified_reason'].value_counts()\n",
        "print(class_counts)"
      ],
      "metadata": {
        "colab": {
          "base_uri": "https://localhost:8080/"
        },
        "id": "G5yWgHWtrmx4",
        "outputId": "f1823e5f-1b8f-4241-c391-c38ccb7adaad"
      },
      "execution_count": null,
      "outputs": [
        {
          "output_type": "stream",
          "name": "stdout",
          "text": [
            "classified_reason\n",
            "disease       383\n",
            "other         286\n",
            "symptom        67\n",
            "tests          45\n",
            "medication     15\n",
            "Name: count, dtype: int64\n"
          ]
        }
      ]
    },
    {
      "cell_type": "code",
      "source": [
        "import numpy as np\n",
        "\n",
        "min_size = df[df['classified_reason'] != 'other']['classified_reason'].value_counts().min()\n",
        "undersampled_classes = []\n",
        "for label in df['classified_reason'].unique():\n",
        "    if label != 'other':\n",
        "        class_samples = df[df['classified_reason'] == label].sample(n=min_size, random_state=19)\n",
        "        undersampled_classes.append(class_samples)\n",
        "df_balanced = pd.concat(undersampled_classes).sample(frac=1, random_state=19).reset_index(drop=True)\n",
        "print(df_balanced['classified_reason'].value_counts())\n"
      ],
      "metadata": {
        "colab": {
          "base_uri": "https://localhost:8080/"
        },
        "id": "fSMST2Nfrh-7",
        "outputId": "97491cd5-454a-459c-f161-65e6ec77ab75"
      },
      "execution_count": null,
      "outputs": [
        {
          "output_type": "stream",
          "name": "stdout",
          "text": [
            "classified_reason\n",
            "symptom       15\n",
            "tests         15\n",
            "medication    15\n",
            "disease       15\n",
            "Name: count, dtype: int64\n"
          ]
        }
      ]
    },
    {
      "cell_type": "code",
      "source": [],
      "metadata": {
        "id": "r5-ph9CAFwAZ",
        "colab": {
          "base_uri": "https://localhost:8080/"
        },
        "outputId": "4ab9dcc5-ea9d-4ebe-e1c3-65da99f1312e"
      },
      "execution_count": null,
      "outputs": [
        {
          "output_type": "stream",
          "name": "stdout",
          "text": [
            "[[0.]\n",
            " [0.]\n",
            " [0.]\n",
            " [0.]]\n"
          ]
        }
      ]
    },
    {
      "cell_type": "code",
      "source": [],
      "metadata": {
        "id": "-xZfVh6T0iUq"
      },
      "execution_count": null,
      "outputs": []
    }
  ]
}